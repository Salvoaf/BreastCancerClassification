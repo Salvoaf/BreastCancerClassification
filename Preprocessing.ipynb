{
  "nbformat": 4,
  "nbformat_minor": 0,
  "metadata": {
    "colab": {
      "provenance": [],
      "mount_file_id": "1ng6vn1cdBzYfqGi7ChqQcq79W5YYBzWz",
      "authorship_tag": "ABX9TyOrcMRyUjB6Y2hS32Jb1i/7",
      "include_colab_link": true
    },
    "kernelspec": {
      "name": "python3",
      "display_name": "Python 3"
    },
    "language_info": {
      "name": "python"
    }
  },
  "cells": [
    {
      "cell_type": "markdown",
      "metadata": {
        "id": "view-in-github",
        "colab_type": "text"
      },
      "source": [
        "<a href=\"https://colab.research.google.com/github/Salvoaf/BreastCancerClassification/blob/main/Preprocessing.ipynb\" target=\"_parent\"><img src=\"https://colab.research.google.com/assets/colab-badge.svg\" alt=\"Open In Colab\"/></a>"
      ]
    },
    {
      "cell_type": "code",
      "source": [
        "from google.colab import drive\n",
        "from google.colab.patches import cv2_imshow\n",
        "import os\n",
        "import cv2\n",
        "import random\n",
        "import shutil\n",
        "import matplotlib.pyplot as plt\n",
        "import numpy as np\n",
        "import tensorflow as tf\n",
        "from tqdm.auto import tqdm\n",
        "import csv"
      ],
      "metadata": {
        "id": "REyoiXUQKIt6"
      },
      "execution_count": 35,
      "outputs": []
    },
    {
      "cell_type": "code",
      "execution_count": null,
      "metadata": {
        "id": "-uLEgjgP7nV_"
      },
      "outputs": [],
      "source": [
        "import os\n",
        "from google.colab import files\n",
        "files.upload()\n",
        "!pip install kaggle\n",
        "os.makedirs(os.path.expanduser(\"~/.kaggle\"), exist_ok=True)\n",
        "!cp kaggle.json ~/.kaggle/\n",
        "!chmod 600 ~/.kaggle/kaggle.json\n",
        "!kaggle datasets download -d paultimothymooney/breast-histopathology-images\n",
        "!unzip breast-histopathology-images.zip"
      ]
    },
    {
      "cell_type": "markdown",
      "source": [],
      "metadata": {
        "id": "d4VtXbSw8gx4"
      }
    },
    {
      "cell_type": "code",
      "source": [
        "from os import listdir\n",
        "\n",
        "base_path = \"../content/IDC_regular_ps50_idx5/\"\n",
        "folder = listdir(base_path)\n",
        "len(folder)"
      ],
      "metadata": {
        "colab": {
          "base_uri": "https://localhost:8080/"
        },
        "id": "updVtS6J8hue",
        "outputId": "12e67d07-1fa0-4710-fc1b-565ee1e797c8"
      },
      "execution_count": 7,
      "outputs": [
        {
          "output_type": "execute_result",
          "data": {
            "text/plain": [
              "279"
            ]
          },
          "metadata": {},
          "execution_count": 7
        }
      ]
    },
    {
      "cell_type": "code",
      "source": [
        "healthy_patch =  \"../content/healthy_patch\"\n",
        "cancer_patch =  \"../content/cancer_patch\"\n",
        "!mkdir healthy_patch\n",
        "!mkdir cancer_patch"
      ],
      "metadata": {
        "colab": {
          "base_uri": "https://localhost:8080/"
        },
        "id": "auNGOIdp8ns8",
        "outputId": "a2e3749d-8d80-49ad-803d-8cf2e8d626d3"
      },
      "execution_count": 17,
      "outputs": [
        {
          "output_type": "stream",
          "name": "stdout",
          "text": [
            "mkdir: cannot create directory ‘healthy_patch’: File exists\n",
            "mkdir: cannot create directory ‘cancer_patch’: File exists\n"
          ]
        }
      ]
    },
    {
      "cell_type": "code",
      "source": [
        "import shutil\n",
        "\n",
        "first = True\n",
        "check_dim = True\n",
        "for patches_each_patient in folder:\n",
        "  path_patient = base_path +\"/\"+ patches_each_patient  #\"../content/IDC_regular_ps50_idx5/id_patient\"\n",
        "  classes = listdir(path_patient)\n",
        "  for c in classes:\n",
        "    path_patient_class = path_patient +\"/\"+ c   #\"../content/IDC_regular_ps50_idx5/id_patient/class0-1\"\n",
        "    for patch in listdir(path_patient_class):\n",
        "      path_patient_patch = path_patient_class + \"/\" + patch\n",
        "      if c == \"0\":\n",
        "        shutil.copy(path_patient_patch, healthy_patch)\n",
        "      elif c == \"1\":\n",
        "        shutil.copy(path_patient_patch, cancer_patch)\n",
        "      if first == False:\n",
        "        if img.shape != mpimg.imread(path_patient_patch).shape:\n",
        "          check_dim = False\n",
        "total_cancer_patches = listdir(cancer_patch)\n",
        "total_healthy_patches = listdir(healthy_patch)\n",
        "total_patches = total_cancer_patches + total_healthy_patches\n",
        "\n",
        "print(\"Number of cancer patches: \" + str(len(total_cancer_patches)))\n",
        "print(\"Number of healthy patches: \" + str(len(total_healthy_patches))) \n",
        "print(\"Totla number patches: \"+ str(len(total_patches)))\n",
        "\n",
        "print(\"All image have same size: \"+ str(check_dim))"
      ],
      "metadata": {
        "id": "i0kzFxtVBPic"
      },
      "execution_count": null,
      "outputs": []
    },
    {
      "cell_type": "code",
      "source": [
        "print(\"Number of cancer patches: \" + str(len(total_cancer_patches)))\n",
        "print(\"Number of healthy patches: \" + str(len(total_healthy_patches))) \n",
        "print(\"Totla number patches: \"+ str(len(total_patches)))"
      ],
      "metadata": {
        "colab": {
          "base_uri": "https://localhost:8080/"
        },
        "id": "Lx7tngPgJ4P0",
        "outputId": "88b676b8-5be5-40b8-d998-071aba53b341"
      },
      "execution_count": 32,
      "outputs": [
        {
          "output_type": "stream",
          "name": "stdout",
          "text": [
            "Number of cancer patches: 78786\n",
            "Number of healthy patches: 198739\n",
            "Totla number patches: 277525\n"
          ]
        }
      ]
    },
    {
      "cell_type": "markdown",
      "source": [
        "#Split the dataset"
      ],
      "metadata": {
        "id": "16q8ZxeOHHpA"
      }
    },
    {
      "cell_type": "code",
      "source": [
        "def split_dataset(dataset, dataset_size, train_percentage=0.6, val_percentage=0.2, test_percentage=0.2, shuffle=True):\n",
        "  \"\"\"\n",
        "    split_dataset splits the dataset into training, validation and test sets.\n",
        "\n",
        "    :param dataset: a list representing the whole dataset\n",
        "    :param dataset_size: number of elements in the dataset\n",
        "    :param train_percentage: the percentage of the dataset that will be used for training\n",
        "    :param val_percentage: the percentage of the dataset that will be used for validation\n",
        "    :param test_percentage: the percentage of the dataset that will be used for testing\n",
        "    :param shuffle: if True the elements of the dataset will be randomly shuffled\n",
        "    :return: three lists representing the training, validation and test sets\n",
        "  \"\"\"\n",
        "  if train_percentage + val_percentage + test_percentage != 1:\n",
        "    print('Total of percentages must be 1')\n",
        "    return None, None, None\n",
        "  \n",
        "  if shuffle:\n",
        "    random.shuffle(dataset)\n",
        "    \n",
        "  train_size = int(train_percentage * dataset_size)\n",
        "  val_size = int(val_percentage * dataset_size)\n",
        "\n",
        "  train_set = dataset[0:train_size]\n",
        "  val_set = dataset[train_size:train_size+val_size]\n",
        "  test_set = dataset[train_size+val_size:dataset_size]\n",
        "    \n",
        "  return train_set, val_set, test_set"
      ],
      "metadata": {
        "id": "7TvRhJXUCjb3"
      },
      "execution_count": 67,
      "outputs": []
    },
    {
      "cell_type": "code",
      "source": [
        "random.seed(24) # seed is specified to always obtain the same results\n",
        "training_set, validation_set, test_set = split_dataset(total_patches, len(total_patches))\n",
        "\n",
        "num_training_samples = len(training_set)\n",
        "num_validation_samples = len(validation_set)\n",
        "num_test_samples = len(test_set)\n",
        "\n",
        "print(\"Number of samples in the training set: \" + str(num_training_samples))\n",
        "print(\"Number of samples in the validation set: \" + str(num_validation_samples))\n",
        "print(\"Number of samples in the test set: \" + str(num_test_samples))"
      ],
      "metadata": {
        "colab": {
          "base_uri": "https://localhost:8080/"
        },
        "id": "RB0-TuQCIPlV",
        "outputId": "a5d65b31-18aa-476b-f4d5-ee24ee96e29d"
      },
      "execution_count": 68,
      "outputs": [
        {
          "output_type": "stream",
          "name": "stdout",
          "text": [
            "Number of samples in the training set: 166515\n",
            "Number of samples in the validation set: 55505\n",
            "Number of samples in the test set: 55505\n"
          ]
        }
      ]
    },
    {
      "cell_type": "markdown",
      "source": [
        "# Solving the Unbalanced Classes Issue\n",
        "As we can see from the histogram below, the number of images for the two classes is not the same. "
      ],
      "metadata": {
        "id": "MpbFFUbNKiOF"
      }
    },
    {
      "cell_type": "code",
      "source": [
        "healthy_samples = [entry for entry in training_set if entry.split(\"_\")[4][5] == '0']\n",
        "cancer_samples = [entry for entry in training_set if entry.split(\"_\")[4][5] == '1']\n",
        "\n",
        "labels = [entry.split(\"_\")[4][5] for entry in training_set]\n",
        "_ = plt.hist(labels, bins=2)\n",
        "\n",
        "\n",
        "print(\"Number of healthy patches: \" + str(len(healthy_samples)))\n",
        "print(\"Number of cancer images: \" + str(len(cancer_samples)))\n",
        "print((len(healthy_samples)+len(cancer_samples))==num_training_samples)"
      ],
      "metadata": {
        "colab": {
          "base_uri": "https://localhost:8080/",
          "height": 317
        },
        "id": "ilNgHkjNKuUX",
        "outputId": "7d57fd08-7391-4117-b173-82470ec16071"
      },
      "execution_count": 69,
      "outputs": [
        {
          "output_type": "stream",
          "name": "stdout",
          "text": [
            "Number of cancer cell images: 119436\n",
            "Number of normal cell images: 47079\n",
            "True\n"
          ]
        },
        {
          "output_type": "display_data",
          "data": {
            "text/plain": [
              "<Figure size 432x288 with 1 Axes>"
            ],
            "image/png": "[encoded data removed]"
          },
          "metadata": {
            "needs_background": "light"
          }
        }
      ]
    },
    {
      "cell_type": "markdown",
      "source": [
        "**We want the classes to have the same number of images, so we need to balance everything**\n"
      ],
      "metadata": {
        "id": "x3BKM_svOGpO"
      }
    },
    {
      "cell_type": "code",
      "source": [
        "expected_samples_per_class = num_training_samples//2\n",
        "print(\"Number of expected images per class: \" + str(expected_samples_per_class))\n",
        "print(\"Number of cancer cell images: \" + str(len(healthy_samples)))"
      ],
      "metadata": {
        "colab": {
          "base_uri": "https://localhost:8080/"
        },
        "id": "CKM9CEyBOGVi",
        "outputId": "46b0439e-8893-4a57-efa3-9409cc243f55"
      },
      "execution_count": 70,
      "outputs": [
        {
          "output_type": "stream",
          "name": "stdout",
          "text": [
            "Number of expected images per class: 83257\n",
            "Number of cancer cell images: 119436\n"
          ]
        }
      ]
    },
    {
      "cell_type": "markdown",
      "source": [
        "For the class containing multiple samples we will do a subsampling"
      ],
      "metadata": {
        "id": "ROIU8_svPER5"
      }
    },
    {
      "cell_type": "code",
      "source": [
        "healthy_samples = random.sample(healthy_samples, expected_samples_per_class)\n",
        "print(\"Number of sampled healthy patches: \" + str(len(healthy_samples)))"
      ],
      "metadata": {
        "colab": {
          "base_uri": "https://localhost:8080/"
        },
        "id": "bUQx7aDsPDkO",
        "outputId": "ed52e683-3075-4128-aec1-feb71cf39151"
      },
      "execution_count": 71,
      "outputs": [
        {
          "output_type": "stream",
          "name": "stdout",
          "text": [
            "Number of sampled healthy patches: 83257\n"
          ]
        }
      ]
    },
    {
      "cell_type": "markdown",
      "source": [
        "**For the class containing fewer samples we will do an augmentation**"
      ],
      "metadata": {
        "id": "W5I2paA5P64Y"
      }
    },
    {
      "cell_type": "code",
      "source": [
        "cancer_samples_needed = expected_samples_per_class - len(cancer_samples)\n",
        "new_cancer_samples = random.sample(cancer_samples, cancer_samples_needed)\n",
        "cancer_samples= cancer_samples + new_cancer_samples\n",
        "training_set = cancer_samples + healthy_samples\n",
        "print(\"Number of sampled normal cell images to perform augmentation: \" + str(len(new_cancer_samples)))\n",
        "print(\"Final number of normal cell images: \" + str(len(cancer_samples)))"
      ],
      "metadata": {
        "colab": {
          "base_uri": "https://localhost:8080/"
        },
        "id": "D3FjZzLSP8C_",
        "outputId": "6b555ac5-f63b-461f-f878-caf595e8e6af"
      },
      "execution_count": 72,
      "outputs": [
        {
          "output_type": "stream",
          "name": "stdout",
          "text": [
            "Number of sampled normal cell images to perform augmentation: 36178\n",
            "Final number of normal cell images: 83257\n"
          ]
        }
      ]
    },
    {
      "cell_type": "markdown",
      "source": [
        "**Balanced training**"
      ],
      "metadata": {
        "id": "dn7upIGNRlqI"
      }
    },
    {
      "cell_type": "code",
      "source": [
        "healthy_samples = [entry for entry in training_set if entry.split(\"_\")[4][5] == '0']\n",
        "cancer_samples = [entry for entry in training_set if entry.split(\"_\")[4][5] == '1']\n",
        "\n",
        "labels = [entry.split(\"_\")[4][5] for entry in training_set]\n",
        "_ = plt.hist(labels, bins=2)\n",
        "\n",
        "\n",
        "print(\"Number of healthy patches: \" + str(len(healthy_samples)))\n",
        "print(\"Number of cancer images: \" + str(len(cancer_samples)))"
      ],
      "metadata": {
        "colab": {
          "base_uri": "https://localhost:8080/",
          "height": 317
        },
        "id": "LskBCQNOQ2F8",
        "outputId": "f2dc1247-71ee-4757-abb6-cbf830a6bd67"
      },
      "execution_count": 73,
      "outputs": [
        {
          "output_type": "stream",
          "name": "stdout",
          "text": [
            "Number of cancer cell images: 83257\n",
            "Number of normal cell images: 83257\n",
            "False\n"
          ]
        },
        {
          "output_type": "display_data",
          "data": {
            "text/plain": [
              "<Figure size 432x288 with 1 Axes>"
            ],
            "image/png": "[encoded data removed]"
          },
          "metadata": {
            "needs_background": "light"
          }
        }
      ]
    }
  ]
}